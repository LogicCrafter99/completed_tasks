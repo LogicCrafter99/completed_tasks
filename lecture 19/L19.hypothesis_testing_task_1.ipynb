{
 "cells": [
  {
   "cell_type": "markdown",
   "id": "95373c03",
   "metadata": {},
   "source": [
    "### Task 1\n",
    "Objective: Apply statistical hypothesis testing to evaluate the impact of different website themes on user engagement.\n",
    "\n",
    "Dataset: [Light vs. Dark Theme User Behavior Dataset](https://statso.io/light-theme-and-dark-theme-case-study/)\n",
    "\n",
    "Tasks:\n",
    "\n",
    "1. Formulate Hypotheses:\n",
    "\n",
    "* Null Hypothesis (H₀)\n",
    "* Alternative Hypothesis (H₁)\n",
    "\n",
    "2. Statistical Testing:\n",
    "\n",
    "* Use a two-sample t-test to compare the mean conversion rates between the two groups.\n",
    "* Calculate the p-value and interpret the results at a 5% significance level.\n",
    "\n",
    "3. Interpretation:\n",
    "\n",
    "* Discuss whether the data provides sufficient evidence to reject the null hypothesis.\n",
    "* Consider the practical implications of your findings for website design decisions.\n"
   ]
  },
  {
   "cell_type": "markdown",
   "id": "fd0a8257",
   "metadata": {},
   "source": [
    "*** \n",
    "## Dataset Overview: Light vs. Dark Theme User Behavior\n",
    "\n",
    "This dataset contains user behavior metrics collected from an e-commerce website using two different website themes:\n",
    "\n",
    "- **Light Theme**\n",
    "- **Dark Theme**\n",
    "\n",
    "### Key Features:\n",
    "- **Theme:** Website theme variant shown to the user (Light or Dark)\n",
    "- **Click Through Rate:** Proportion of users who clicked on promotional elements\n",
    "- **Conversion Rate:** Proportion of users who completed a purchase\n",
    "- **Bounce Rate:** Proportion of users who left the site after viewing only one page\n",
    "- **Scroll Depth:** Average percentage of page scrolled by the user\n",
    "- **Age:** Age of the user\n",
    "- **Location:** User’s city\n",
    "- **Session Duration:** Time spent on the website (in seconds)\n",
    "- **Purchases:** Whether the user made a purchase (Yes/No)\n",
    "- **Added to Cart:** Whether the user added items to cart (Yes/No)\n",
    "\n",
    "### Dataset Summary:\n",
    "- **Total records:** ~20 user sessions\n",
    "- **Themes:** 2 (Light, Dark)\n",
    "- **Metrics:** Behavioral data capturing engagement and purchase activity\n",
    "\n",
    "This data allows us to analyze how different website themes impact user engagement and purchasing behavior.\n"
   ]
  },
  {
   "cell_type": "markdown",
   "id": "959088af",
   "metadata": {},
   "source": [
    "## Import"
   ]
  },
  {
   "cell_type": "code",
   "execution_count": 27,
   "id": "10f44aa4",
   "metadata": {},
   "outputs": [],
   "source": [
    "import pandas as pd\n",
    "from scipy.stats import ttest_ind\n",
    "from scipy.stats import mannwhitneyu\n",
    "import pandas as pd\n",
    "import seaborn as sns\n",
    "import matplotlib.pyplot as plt\n",
    "\n",
    "from scipy.stats import shapiro"
   ]
  },
  {
   "cell_type": "markdown",
   "id": "5b7df384",
   "metadata": {},
   "source": [
    "## Loading the dataset"
   ]
  },
  {
   "cell_type": "code",
   "execution_count": 28,
   "id": "5bb0029b",
   "metadata": {},
   "outputs": [
    {
     "data": {
      "text/html": [
       "<div>\n",
       "<style scoped>\n",
       "    .dataframe tbody tr th:only-of-type {\n",
       "        vertical-align: middle;\n",
       "    }\n",
       "\n",
       "    .dataframe tbody tr th {\n",
       "        vertical-align: top;\n",
       "    }\n",
       "\n",
       "    .dataframe thead th {\n",
       "        text-align: right;\n",
       "    }\n",
       "</style>\n",
       "<table border=\"1\" class=\"dataframe\">\n",
       "  <thead>\n",
       "    <tr style=\"text-align: right;\">\n",
       "      <th></th>\n",
       "      <th>Theme</th>\n",
       "      <th>Click Through Rate</th>\n",
       "      <th>Conversion Rate</th>\n",
       "      <th>Bounce Rate</th>\n",
       "      <th>Scroll_Depth</th>\n",
       "      <th>Age</th>\n",
       "      <th>Location</th>\n",
       "      <th>Session_Duration</th>\n",
       "      <th>Purchases</th>\n",
       "      <th>Added_to_Cart</th>\n",
       "    </tr>\n",
       "  </thead>\n",
       "  <tbody>\n",
       "    <tr>\n",
       "      <th>0</th>\n",
       "      <td>Light Theme</td>\n",
       "      <td>0.054920</td>\n",
       "      <td>0.282367</td>\n",
       "      <td>0.405085</td>\n",
       "      <td>72.489458</td>\n",
       "      <td>25</td>\n",
       "      <td>Chennai</td>\n",
       "      <td>1535</td>\n",
       "      <td>No</td>\n",
       "      <td>Yes</td>\n",
       "    </tr>\n",
       "    <tr>\n",
       "      <th>1</th>\n",
       "      <td>Light Theme</td>\n",
       "      <td>0.113932</td>\n",
       "      <td>0.032973</td>\n",
       "      <td>0.732759</td>\n",
       "      <td>61.858568</td>\n",
       "      <td>19</td>\n",
       "      <td>Pune</td>\n",
       "      <td>303</td>\n",
       "      <td>No</td>\n",
       "      <td>Yes</td>\n",
       "    </tr>\n",
       "    <tr>\n",
       "      <th>2</th>\n",
       "      <td>Dark Theme</td>\n",
       "      <td>0.323352</td>\n",
       "      <td>0.178763</td>\n",
       "      <td>0.296543</td>\n",
       "      <td>45.737376</td>\n",
       "      <td>47</td>\n",
       "      <td>Chennai</td>\n",
       "      <td>563</td>\n",
       "      <td>Yes</td>\n",
       "      <td>Yes</td>\n",
       "    </tr>\n",
       "    <tr>\n",
       "      <th>3</th>\n",
       "      <td>Light Theme</td>\n",
       "      <td>0.485836</td>\n",
       "      <td>0.325225</td>\n",
       "      <td>0.245001</td>\n",
       "      <td>76.305298</td>\n",
       "      <td>58</td>\n",
       "      <td>Pune</td>\n",
       "      <td>385</td>\n",
       "      <td>Yes</td>\n",
       "      <td>No</td>\n",
       "    </tr>\n",
       "    <tr>\n",
       "      <th>4</th>\n",
       "      <td>Light Theme</td>\n",
       "      <td>0.034783</td>\n",
       "      <td>0.196766</td>\n",
       "      <td>0.765100</td>\n",
       "      <td>48.927407</td>\n",
       "      <td>25</td>\n",
       "      <td>New Delhi</td>\n",
       "      <td>1437</td>\n",
       "      <td>No</td>\n",
       "      <td>No</td>\n",
       "    </tr>\n",
       "  </tbody>\n",
       "</table>\n",
       "</div>"
      ],
      "text/plain": [
       "         Theme  Click Through Rate  Conversion Rate  Bounce Rate  \\\n",
       "0  Light Theme            0.054920         0.282367     0.405085   \n",
       "1  Light Theme            0.113932         0.032973     0.732759   \n",
       "2   Dark Theme            0.323352         0.178763     0.296543   \n",
       "3  Light Theme            0.485836         0.325225     0.245001   \n",
       "4  Light Theme            0.034783         0.196766     0.765100   \n",
       "\n",
       "   Scroll_Depth  Age   Location  Session_Duration Purchases Added_to_Cart  \n",
       "0     72.489458   25    Chennai              1535        No           Yes  \n",
       "1     61.858568   19       Pune               303        No           Yes  \n",
       "2     45.737376   47    Chennai               563       Yes           Yes  \n",
       "3     76.305298   58       Pune               385       Yes            No  \n",
       "4     48.927407   25  New Delhi              1437        No            No  "
      ]
     },
     "execution_count": 28,
     "metadata": {},
     "output_type": "execute_result"
    }
   ],
   "source": [
    "df = pd.read_csv('data/website_ab_test.csv')\n",
    "df.head()"
   ]
  },
  {
   "cell_type": "markdown",
   "id": "a245126a",
   "metadata": {},
   "source": [
    "### Formulate Hypotheses:"
   ]
  },
  {
   "cell_type": "code",
   "execution_count": 29,
   "id": "0a7cc7f2",
   "metadata": {},
   "outputs": [],
   "source": [
    "H0 = \"Session duration is the same for both themes.\"\n",
    "H1 = \"Session duration differs significantly between themes.\""
   ]
  },
  {
   "cell_type": "markdown",
   "id": "ee802734",
   "metadata": {},
   "source": [
    "### Distribution of Session Duration by Theme"
   ]
  },
  {
   "cell_type": "code",
   "execution_count": 37,
   "id": "5ff20fe0",
   "metadata": {},
   "outputs": [
    {
     "data": {
      "image/png": "[encoded data removed]",
      "text/plain": [
       "<Figure size 800x600 with 1 Axes>"
      ]
     },
     "metadata": {},
     "output_type": "display_data"
    }
   ],
   "source": [
    "plt.figure(figsize=(8, 6))\n",
    "sns.histplot(data=df, x='Session_Duration', hue='Theme', kde=True, bins=20, palette='Set2')\n",
    "plt.title(\"Distribution of Session Duration by Theme\")\n",
    "plt.ylabel(\"Count\")\n",
    "plt.show()"
   ]
  },
  {
   "cell_type": "markdown",
   "id": "b347d921",
   "metadata": {},
   "source": [
    "### Distribution Analysis and Statistical Testing Approach\n",
    "\n",
    "The histogram and KDE plot of **Session Duration**  indicate that the data is not normally distributed.  \n",
    "\n",
    "Due to the lack of a normal distribution, the “Mann-Whitney U-test” will be used instead of the two-sample t-test. The Mann-Whitney U-test is a nonparametric statistical test that compares the medians of two independent groups without assuming a normal distribution."
   ]
  },
  {
   "cell_type": "code",
   "execution_count": 31,
   "id": "e5d2cd23",
   "metadata": {},
   "outputs": [],
   "source": [
    "light_sessions  = df[df['Theme'] == 'Light Theme']['Session_Duration']\n",
    "dark_sessions  = df[df['Theme'] == 'Dark Theme']['Session_Duration']"
   ]
  },
  {
   "cell_type": "markdown",
   "id": "2efd3197",
   "metadata": {},
   "source": [
    "### Mann-Whitney U Test for Session Duration by Theme\n",
    "Performing a Mann-Whitney U-test to compare session duration between Light and Dark theme users.\n",
    "\n",
    "A low p-value indicates a statistically significant difference in session duration between two themes."
   ]
  },
  {
   "cell_type": "code",
   "execution_count": null,
   "id": "9c054081",
   "metadata": {},
   "outputs": [
    {
     "name": "stdout",
     "output_type": "stream",
     "text": [
      "T-statistic: 126545.5000\n",
      "P-value: 0.7189\n"
     ]
    }
   ],
   "source": [
    "light_theme = df[df['Theme'] == 'Light Theme']['Session_Duration']\n",
    "dark_theme = df[df['Theme'] == 'Dark Theme']['Session_Duration']\n",
    "\n",
    "t_stat, p_value = mannwhitneyu(light_theme, dark_theme, alternative='two-sided')\n",
    "\n",
    "print(f\"T-statistic: {t_stat:.4f}\")\n",
    "print(f\"P-value: {p_value:.4f}\")"
   ]
  },
  {
   "cell_type": "code",
   "execution_count": 34,
   "id": "d2865b6b",
   "metadata": {},
   "outputs": [
    {
     "name": "stdout",
     "output_type": "stream",
     "text": [
      "Fail to reject the null hypothesis (H0): Session duration is the same for both themes.\n",
      "Conclusion: No significant difference detected.\n"
     ]
    }
   ],
   "source": [
    "alpha = 0.05\n",
    "if p_value < alpha:\n",
    "    print(f\"Reject the null hypothesis (H0): {H0}\")\n",
    "    print(f\"Conclusion: {H1}\")\n",
    "else:\n",
    "    print(f\"Fail to reject the null hypothesis (H0): {H0}\")\n",
    "    print(\"Conclusion: No significant difference detected.\")\n"
   ]
  },
  {
   "cell_type": "markdown",
   "id": "c3ca600d",
   "metadata": {},
   "source": [
    "### Interpretation of Results\n",
    "\n",
    "The Mann-Whitney U test yielded a p-value of 0.7189, which is much higher than the common significance threshold of 0.05. Therefore, we fail to reject the null hypothesis that the session duration is the same for users of both Light and Dark website themes\n",
    "\n",
    "**Practical Implications:**  \n",
    "From a website design perspective, this suggests that choosing between a Light or Dark theme may not influence the length of user sessions. Designers might prioritize other factors such as user preference, accessibility, or aesthetics when deciding on the theme, as session duration appears unaffected.  "
   ]
  }
 ],
 "metadata": {
  "kernelspec": {
   "display_name": "Python 3",
   "language": "python",
   "name": "python3"
  },
  "language_info": {
   "codemirror_mode": {
    "name": "ipython",
    "version": 3
   },
   "file_extension": ".py",
   "mimetype": "text/x-python",
   "name": "python",
   "nbconvert_exporter": "python",
   "pygments_lexer": "ipython3",
   "version": "3.12.5"
  }
 },
 "nbformat": 4,
 "nbformat_minor": 5
}
