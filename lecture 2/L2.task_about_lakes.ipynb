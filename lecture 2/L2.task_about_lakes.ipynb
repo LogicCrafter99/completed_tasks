{
 "cells": [
  {
   "cell_type": "code",
   "execution_count": 292,
   "metadata": {},
   "outputs": [],
   "source": [
    "import matplotlib.pyplot as plt\n",
    "import random\n",
    "import numpy as np"
   ]
  },
  {
   "cell_type": "markdown",
   "metadata": {},
   "source": [
    "### Task about lakes:\n",
    " - Generate 20 random variable from 1 to 100\n",
    " - Draw the plot of the sequence\n",
    " - Lets assume each point represent the height and so all plotting is 2d mountains.\n",
    " - Then consider the unlimited rain from above - cavities become lakes full of water.\n",
    " - Determine the deepest lake\n",
    "\n",
    "***\n"
   ]
  },
  {
   "cell_type": "markdown",
   "metadata": {},
   "source": [
    "The function `find_peaks(heights)` identifies peaks in a given list of terrain heights.\n",
    "\n",
    "For the input list:  \n",
    "`[78, 83, 36, 12, 38, 76, 74, 49, 76, 46, 37, 35, 88, 16, 6, 10, 77, 80, 89, 28]` \n",
    "\n",
    "Detected Peaks:\n",
    "- **83** \n",
    "- **88** \n",
    "- **89**\n",
    "\n",
    "**Returning Peaks**: The function returns a list of tuples, where:\n",
    "   - The first element is the height of the peak.\n",
    "   - The second element is the index in the original list.\n",
    "\n",
    "`[(83, 1), (88, 12), (89, 18)]`\n"
   ]
  },
  {
   "cell_type": "code",
   "execution_count": 293,
   "metadata": {},
   "outputs": [],
   "source": [
    "def find_peaks(heights):\n",
    "    \"\"\"Find peaks in the list of heights.\"\"\"\n",
    "    lst = [0] + heights + [0]  # Adding zeroes at the beginning and end\n",
    "    peaks = [] # List to store peaks and their positions\n",
    "    highest_so_far = 0  # The highest peak found so far\n",
    "\n",
    "    for x in range(1, len(lst) - 1):\n",
    "        if lst[x - 1] <= lst[x] >= lst[x + 1]:  # Peak condition\n",
    "            while peaks and highest_so_far > peaks[-1][0] < lst[x]:\n",
    "                peaks.pop()\n",
    "            if lst[x] > highest_so_far:\n",
    "                highest_so_far = lst[x]\n",
    "            peaks.append((lst[x], x - 1))  # Adjust index according to the original list\n",
    "    return peaks\n",
    "\n",
    "\n",
    "    "
   ]
  },
  {
   "cell_type": "markdown",
   "metadata": {},
   "source": [
    "The function `find_deepest_lake(heights, peaks)` identifies the **deepest lake** that forms between peaks in a given terrain.\n",
    "\n",
    "**How It Works:**\n",
    "1. **Iterating Through Peaks**: The function examines pairs of consecutive peaks.\n",
    "2. **Defining a Lake**: \n",
    "   - A lake forms in the **valley** (lowest section) between two peaks.\n",
    "   - The depth of the lake is determined by the difference between the **lowest elevation in the valley** and the **minimum of the two peaks**.\n",
    "3. **Tracking the Deepest Lake**: \n",
    "   - The function keeps track of the lake with the maximum depth.\n",
    "   - If multiple lakes exist, it selects the deepest one.\n",
    "4. **Returning the Result**:\n",
    "   - The function returns a list of indices that represent the **lake region**.\n",
    "   - If no valid lake is found, it returns `None`.\n",
    "\n",
    "Example:\n",
    "\n",
    "heights = `[78, 83, 36, 12, 38, 76, 74, 49, 76, 46, 37, 35, 88, 16, 6, 10, 77, 80, 89, 28]`\n",
    "\n",
    "peaks = `[(83, 1), (88, 12), (89, 18)]`\n",
    "\n",
    "function will return: `[12, 13, 14, 15, 16, 17, 18]`\n"
   ]
  },
  {
   "cell_type": "code",
   "execution_count": 294,
   "metadata": {},
   "outputs": [],
   "source": [
    "def find_deepest_lake(heights, peaks):\n",
    "    \"\"\"Finds the deepest lake between peaks.\"\"\"\n",
    "    deepest_lake = None\n",
    "    max_depth = 0\n",
    "\n",
    "    for i in range(len(peaks) - 1):\n",
    "        left_peak, left_index = peaks[i]\n",
    "        right_peak, right_index = peaks[i + 1]\n",
    "        if right_index - left_index > 1:  # Ensure there is space between the peaks\n",
    "            min_height = min(left_peak, right_peak)\n",
    "            lake_segment = heights[left_index + 1:right_index]  # Lake section\n",
    "            lake_depth = min_height - min(lake_segment)\n",
    "            if lake_depth > max_depth:\n",
    "                max_depth = lake_depth\n",
    "                deepest_lake = (min_height, left_index, right_index, lake_segment)\n",
    "\n",
    "    if deepest_lake:\n",
    "        min_height, left_index, right_index, lake_segment = deepest_lake\n",
    "        return list(range(left_index , right_index+1))  # Return all indices between peaks\n",
    "    return None  \n"
   ]
  },
  {
   "cell_type": "markdown",
   "metadata": {},
   "source": [
    "The function `calculate_lake_depth(heights, indices)` determines the **depth** of the deepest lake in the given terrain.\n",
    "1. **Finds the left and right peaks** (lake boundaries).\n",
    "2. **Identifies the lowest point inside** the lake.\n",
    "3. **Computes the depth** as:\n",
    "\n",
    "   $$\n",
    "   \\text{Depth} = \\text{min height of peaks} - \\text{lowest point inside the lake}\n",
    "   $$\n",
    "   \n",
    "Example:\n",
    "\n",
    "heights = `[78, 83, 36, 12, 38, 76, 74, 49, 76, 46, 37, 35, 88, 16, 6, 10, 77, 80, 89, 28]`\n",
    "\n",
    "indices = `[12, 13, 14, 15, 16, 17, 18]`\n",
    "\n",
    "function will return: `82`"
   ]
  },
  {
   "cell_type": "code",
   "execution_count": 295,
   "metadata": {},
   "outputs": [],
   "source": [
    "def calculate_lake_depth(heights, indices):\n",
    "    \"\"\"Calculates the depth of the deepest lake.\"\"\"\n",
    "    if not indices or len(indices) < 2:\n",
    "        return 0   # Return depth 0 if no indices exist\n",
    "    \n",
    "    left_index = indices[0]\n",
    "    right_index = indices[-1]\n",
    "    \n",
    "    # Minimum height between left and right peaks\n",
    "    min_height = min(heights[left_index], heights[right_index])\n",
    "    \n",
    "    # Lowest point inside the lake\n",
    "    min_within = min(heights[left_index + 1:right_index])\n",
    "    \n",
    "    # Depth = difference between the minimum elevation and the lowest point of the lake\n",
    "    lake_depth = min_height - min_within\n",
    "    \n",
    "    return lake_depth\n"
   ]
  },
  {
   "cell_type": "markdown",
   "metadata": {},
   "source": [
    "The function `visualize_lake(heights, indices)` plots the **terrain** and highlights the **deepest lake**."
   ]
  },
  {
   "cell_type": "code",
   "execution_count": 296,
   "metadata": {},
   "outputs": [],
   "source": [
    "def visualize_lake(heights, indices):\n",
    "    \"\"\"Visualizes the lake on the plot, where indices are the lake indices\"\"\"\n",
    "    if not indices or len(indices) < 2:\n",
    "        return  # Do not visualize if there are no indices or less than two\n",
    "    \n",
    "    plt.plot(range(len(heights)), heights, color='blue', label='Terrain')\n",
    "    \n",
    "    left_index = indices[0]\n",
    "    right_index = indices[-1]\n",
    "    lake_segment = heights[left_index:right_index + 1]  \n",
    "    \n",
    "    # Highlight the lake in red\n",
    "    plt.plot(range(left_index, right_index + 1), lake_segment, color='red', linewidth=2, label='Lake')\n",
    "    \n",
    "    # Add dashed lines for lake boundaries\n",
    "    min_height = min(heights[left_index], heights[right_index])\n",
    "    plt.hlines(min_height, 0, len(heights) - 1, colors='red', linestyles='dashed')\n",
    "    \n",
    "    # Add the deepest point of the lake\n",
    "    min_within = min(lake_segment)\n",
    "    plt.hlines(min_within, 0, len(heights) - 1, colors='green', linestyles='dashed')\n",
    "    \n",
    "    plt.legend()\n",
    "    plt.show()\n"
   ]
  },
  {
   "cell_type": "markdown",
   "metadata": {},
   "source": [
    "The function `generate_random_heights(length=20, min_value=0, max_value=100)` creates a **random sequence of heights**, simulating terrain elevation."
   ]
  },
  {
   "cell_type": "code",
   "execution_count": 297,
   "metadata": {},
   "outputs": [],
   "source": [
    "def generate_random_heights(length=20, min_value=0, max_value=100):\n",
    "    \"\"\"Generates a random array of integers between min_value and max_value.\"\"\"\n",
    "    return [random.randint(min_value, max_value) for _ in range(length)]"
   ]
  },
  {
   "cell_type": "code",
   "execution_count": 344,
   "metadata": {},
   "outputs": [
    {
     "name": "stdout",
     "output_type": "stream",
     "text": [
      "Depth of the deepest lake: 90\n"
     ]
    },
    {
     "data": {
      "image/png": "[encoded data removed]",
      "text/plain": [
       "<Figure size 640x480 with 1 Axes>"
      ]
     },
     "metadata": {},
     "output_type": "display_data"
    }
   ],
   "source": [
    "# Generate heights\n",
    "heights = generate_random_heights()\n",
    "\n",
    "# Find peaks\n",
    "peaks = find_peaks(heights)\n",
    "\n",
    "# Find indices of the deepest lake\n",
    "deepest_lake_indices = find_deepest_lake(heights, peaks)\n",
    "\n",
    "# Calculate the depth of the deepest lake\n",
    "depth_of_deepest_lake = calculate_lake_depth(heights, deepest_lake_indices)\n",
    "\n",
    "# Print the result\n",
    "print(f\"Depth of the deepest lake: {depth_of_deepest_lake}\")\n",
    "\n",
    "# Visualize the lake\n",
    "visualize_lake(heights, deepest_lake_indices)"
   ]
  }
 ],
 "metadata": {
  "kernelspec": {
   "display_name": "Python 3",
   "language": "python",
   "name": "python3"
  },
  "language_info": {
   "codemirror_mode": {
    "name": "ipython",
    "version": 3
   },
   "file_extension": ".py",
   "mimetype": "text/x-python",
   "name": "python",
   "nbconvert_exporter": "python",
   "pygments_lexer": "ipython3",
   "version": "3.12.5"
  }
 },
 "nbformat": 4,
 "nbformat_minor": 2
}
