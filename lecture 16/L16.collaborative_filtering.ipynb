{
 "cells": [
  {
   "cell_type": "markdown",
   "id": "e8a32e70",
   "metadata": {},
   "source": [
    "# Collaborative Filtering via Matrix Factorization\n",
    "\n",
    "Implementation of a simple joint filtering system using **matrix factorization** with stochastic gradient descent (SGD). The idea is to recommend products to users based on their previous ratings."
   ]
  },
  {
   "cell_type": "markdown",
   "id": "eaca6b67",
   "metadata": {},
   "source": [
    "## Import"
   ]
  },
  {
   "cell_type": "code",
   "execution_count": 12,
   "id": "59cba4b7",
   "metadata": {},
   "outputs": [],
   "source": [
    "import numpy as np\n",
    "import pandas as pd\n",
    "from sklearn.model_selection import train_test_split\n",
    "from sklearn.metrics import mean_squared_error\n"
   ]
  },
  {
   "cell_type": "markdown",
   "id": "f9a93d57",
   "metadata": {},
   "source": [
    "### Matrix Factorization with Gradient Descent\n",
    "\n",
    "### `train_mf`\n",
    "The function using gradient descent for collaborative filtering.  \n",
    "The goal is to learn two matrices:  \n",
    "- **User feature matrix** $U$ (shape: *num_users* × *num_features*)  \n",
    "- **Movie feature matrix** $M$ (shape: *num_movies* × *num_features*)  \n",
    "\n",
    "\n",
    "The function takes:\n",
    "- **train_df**: the training dataset containing `(user_id, movie_id, rating)`\n",
    "- **num_users**: total number of unique users\n",
    "- **num_movies**: total number of unique movies\n",
    "- **num_features**: number of latent features to learn\n",
    "- **alpha**: learning rate for gradient descent\n",
    "- **lambd**: regularization parameter to prevent overfitting \n",
    "- **epochs**: number of iterations over the dataset\n",
    "\n",
    "For each training data point:\n",
    "- It retrieves the corresponding user vector $U_u$ and movie vector $M_m$\n",
    "- Computes the **predicted rating** as the dot product:\n",
    "  $$\n",
    "  \\hat{r}_{u,m} = U_u \\cdot M_m^T\n",
    "  $$\n",
    "- Computes the error:  \n",
    "  $$\n",
    "  e_{u,m} = r_{u,m} - \\hat{r}_{u,m}\n",
    "  $$\n",
    "- Updates the user and movie vectors using gradient descent:  \n",
    "  $$\n",
    "  U[u] += alpha * (error * M[m] - lambd * U[u])\n",
    "  $$\n",
    "  $$\n",
    "  M[m] += alpha * (error * U[u] - lambd * M[m])\n",
    "  $$\n"
   ]
  },
  {
   "cell_type": "code",
   "execution_count": 28,
   "id": "5a88e18b",
   "metadata": {},
   "outputs": [],
   "source": [
    "def train_mf(train_df, num_users, num_movies, num_features=5, alpha=0.01, lambd=0.01, epochs=1000):\n",
    "    U = np.random.normal(0, 0.1, (num_users, num_features))\n",
    "    M = np.random.normal(0, 0.1, (num_movies, num_features))\n",
    "    \n",
    "    for epoch in range(epochs):\n",
    "        for row in train_df.itertuples():\n",
    "            u = row.user_id - 1\n",
    "            m = row.movie_id - 1\n",
    "            r = row.rating\n",
    "            pred = np.dot(U[u], M[m])\n",
    "            error = r - pred\n",
    "            \n",
    "            U[u] += alpha * (error * M[m] - lambd * U[u])\n",
    "            M[m] += alpha * (error * U[u] - lambd * M[m])\n",
    "            \n",
    "    return U, M\n"
   ]
  },
  {
   "cell_type": "markdown",
   "id": "0588a31d",
   "metadata": {},
   "source": [
    "### Predicting Ratings and Evaluating Model Performance\n",
    "\n",
    "After training the **Matrix Factorization model**, predictions on new data using the learned matrices $U$ and $M$.\n",
    "\n",
    "#### `predict()` \n",
    "\n",
    "The function takes:\n",
    "- **test_df**: the test dataset containing `(user_id, movie_id, rating)`\n",
    "- **U**: the learned user feature matrix\n",
    "- **M**: the learned movie feature matrix\n",
    "\n",
    "For each test data point:\n",
    "- It retrieves the corresponding user vector $U_u$ and movie vector $M_m$\n",
    "- Computes the **predicted rating** as the dot product:\n",
    "  $$\n",
    "  \\ pred = U_u \\cdot M_m^T\n",
    "  $$"
   ]
  },
  {
   "cell_type": "code",
   "execution_count": null,
   "id": "c644b425",
   "metadata": {},
   "outputs": [],
   "source": [
    "def predict(test_df, U, M):\n",
    "    preds = []\n",
    "    truths = []\n",
    "    \n",
    "    for row in test_df.itertuples():\n",
    "        u = row.user_id - 1\n",
    "        m = row.movie_id - 1\n",
    "        pred = np.dot(U[u], M[m])\n",
    "        preds.append(pred)\n",
    "        truths.append(row.rating)\n",
    "    \n",
    "    return preds, truths\n",
    "\n",
    "def rmse(preds, truths):\n",
    "    return np.sqrt(mean_squared_error(truths, preds))"
   ]
  },
  {
   "cell_type": "markdown",
   "id": "9560e28b",
   "metadata": {},
   "source": [
    "### Creates a small dataset of user movie ratings and splits it into a 70/30 training and test set."
   ]
  },
  {
   "cell_type": "code",
   "execution_count": 29,
   "id": "0abe8ebd",
   "metadata": {},
   "outputs": [],
   "source": [
    "df = pd.DataFrame({\n",
    "    'user_id': [1,1,1,2,2,3,3,3,4,4],\n",
    "    'movie_id': [1,2,3,1,4,2,3,4,1,4],\n",
    "    'rating': [5,4,3,4,5,2,3,5,4,4]\n",
    "})\n",
    "\n",
    "train_df, test_df = train_test_split(df, test_size=0.3, random_state=42)"
   ]
  },
  {
   "cell_type": "markdown",
   "id": "2f5e5917",
   "metadata": {},
   "source": [
    "### Training a matrix factorization model"
   ]
  },
  {
   "cell_type": "code",
   "execution_count": null,
   "id": "bc9698a4",
   "metadata": {},
   "outputs": [
    {
     "name": "stdout",
     "output_type": "stream",
     "text": [
      "RMSE: 2.4445903867871794\n"
     ]
    }
   ],
   "source": [
    "num_users = df['user_id'].max()\n",
    "num_movies = df['movie_id'].max()\n",
    "\n",
    "U, M = train_mf(train_df, num_users, num_movies, epochs=500)\n",
    "\n",
    "preds, truths = predict(test_df, U, M)\n",
    "\n",
    "print('RMSE:', rmse(preds, truths))"
   ]
  },
  {
   "cell_type": "markdown",
   "id": "3b129c53",
   "metadata": {},
   "source": [
    "### Comparison of the true value with the predicted value"
   ]
  },
  {
   "cell_type": "code",
   "execution_count": null,
   "id": "6e55d30f",
   "metadata": {},
   "outputs": [
    {
     "data": {
      "text/html": [
       "<div>\n",
       "<style scoped>\n",
       "    .dataframe tbody tr th:only-of-type {\n",
       "        vertical-align: middle;\n",
       "    }\n",
       "\n",
       "    .dataframe tbody tr th {\n",
       "        vertical-align: top;\n",
       "    }\n",
       "\n",
       "    .dataframe thead th {\n",
       "        text-align: right;\n",
       "    }\n",
       "</style>\n",
       "<table border=\"1\" class=\"dataframe\">\n",
       "  <thead>\n",
       "    <tr style=\"text-align: right;\">\n",
       "      <th></th>\n",
       "      <th>UserID</th>\n",
       "      <th>MovieID</th>\n",
       "      <th>True Rating</th>\n",
       "      <th>Predicted Rating</th>\n",
       "    </tr>\n",
       "  </thead>\n",
       "  <tbody>\n",
       "    <tr>\n",
       "      <th>0</th>\n",
       "      <td>4</td>\n",
       "      <td>1</td>\n",
       "      <td>4</td>\n",
       "      <td>3.289931</td>\n",
       "    </tr>\n",
       "  </tbody>\n",
       "</table>\n",
       "</div>"
      ],
      "text/plain": [
       "   UserID  MovieID  True Rating  Predicted Rating\n",
       "0       4        1            4          3.289931"
      ]
     },
     "execution_count": 49,
     "metadata": {},
     "output_type": "execute_result"
    }
   ],
   "source": [
    "results_df = pd.DataFrame({\n",
    "    'UserID': test_df['user_id'].values,\n",
    "    'MovieID': test_df['movie_id'].values,\n",
    "    'True Rating': truths,\n",
    "    'Predicted Rating': preds\n",
    "})\n",
    "\n",
    "results_df.head(1)"
   ]
  }
 ],
 "metadata": {
  "kernelspec": {
   "display_name": "Python 3",
   "language": "python",
   "name": "python3"
  },
  "language_info": {
   "codemirror_mode": {
    "name": "ipython",
    "version": 3
   },
   "file_extension": ".py",
   "mimetype": "text/x-python",
   "name": "python",
   "nbconvert_exporter": "python",
   "pygments_lexer": "ipython3",
   "version": "3.12.5"
  }
 },
 "nbformat": 4,
 "nbformat_minor": 5
}
