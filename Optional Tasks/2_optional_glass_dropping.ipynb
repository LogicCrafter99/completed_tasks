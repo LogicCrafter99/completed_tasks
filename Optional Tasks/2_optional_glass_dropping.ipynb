{
 "cells": [
  {
   "cell_type": "markdown",
   "id": "8c371d2c",
   "metadata": {},
   "source": [
    "## Glass Dropping Problem\n",
    "\n",
    "We are given a building with a certain number of floors and a limited number of identical fragile glasses. A glass will break if it is dropped from a floor that is too high. Our goal is to determine the **highest floor** from which a glass can be dropped **without breaking**, using the **minimum number of attempts in the worst case**.\n",
    "\n",
    "We must find the optimal strategy for the following scenarios:\n",
    "\n",
    "1. **2 glasses and 100 floors**\n",
    "2. **3 glasses and 100 floors**\n",
    "3. **5 glasses and 1000 floors**\n",
    "\n",
    "Assumptions:\n",
    "- All glasses are identical.\n",
    "- If a glass breaks when dropped from a certain floor, it will also break from any higher floor.\n",
    "- If a glass survives a drop from a certain floor, it will not break from any lower floor.\n",
    "- A broken glass can no longer be used.\n",
    "***"
   ]
  },
  {
   "cell_type": "markdown",
   "id": "ca5b9a61",
   "metadata": {},
   "source": [
    "### Algorithm Idea\n",
    "\n",
    "Instead of checking each floor individually, we change the approach:  \n",
    "**We don't search for a specific floor. Instead, we determine the maximum number of floors that can be reliably tested with `n` glasses and `cnt` attempts.**\n",
    "\n",
    "This allows us to find the minimum number of attempts required to cover all `k` floors.\n",
    "\n",
    "\n",
    "### Basic Formula\n",
    "\n",
    "```\n",
    "dp[m][g] = dp[m - 1][g - 1] + dp[m - 1][g] + 1\n",
    "```\n",
    "\n",
    "This means:\n",
    "\n",
    "- If the glass **breaks** — we know the critical floor is *below*, so we continue with `g - 1` glasses and `m - 1` attempts -> `dp[m - 1][g - 1]`\n",
    "- If the glass **doesn't break** — we check the *higher* floors, still having `g` glasses and `m - 1` attempts -> `dp[m - 1][g]`\n",
    "- We add `1` for the current floor we just tested\n",
    "***"
   ]
  },
  {
   "cell_type": "markdown",
   "id": "6b8d88c9",
   "metadata": {},
   "source": [
    "### Solution: 2 Glasses and 10 Floors\n",
    "\n",
    "The visualization, like the table `dp[moves][glasses]`, changes at each step.\n",
    "\n",
    "\n",
    "(moves = 0)\n",
    "\n",
    "| moves | dp[0] | dp[1] | dp[2] |\n",
    "|-------|-------|-------|-------|\n",
    "| 0     | 0     | 0     | 0     |\n",
    "\n",
    "(moves = 1)\n",
    "\n",
    "| moves | dp[0] | dp[1] | dp[2] |\n",
    "|-------|-------|-------|-------|\n",
    "| 1     | 0     | 1     | 1     |\n",
    "\n",
    "(moves = 2)\n",
    "\n",
    "| moves | dp[0] | dp[1] | dp[2] |\n",
    "|-------|-------|-------|-------|\n",
    "| 2     | 0     | 2     | 3     |\n",
    "\n",
    "(moves = 3)\n",
    "\n",
    "| moves | dp[0] | dp[1] | dp[2] |\n",
    "|-------|-------|-------|-------|\n",
    "| 3     | 0     | 3     | 6     |\n",
    "\n",
    "Step 4 (moves = 4)\n",
    "\n",
    "| moves | dp[0] | dp[1] | dp[2] |\n",
    "|-------|-------|-------|-------|\n",
    "| 4     | 0     | 4     | 10    |\n",
    "\n",
    "**Since `dp[4][2] = 10`, which equals the number of floors, the algorithm stops**\n",
    "\n",
    "\n",
    "\n",
    "#### Conclusion\n",
    "\n",
    "The **minimum number of moves** needed to find the critical floor with **2 glasses** and **10 floors** is: `4`\n",
    "\n",
    "This table helps track how the number of checkable floors grows as we increase the number of allowed moves.\n"
   ]
  },
  {
   "cell_type": "code",
   "execution_count": 54,
   "id": "ccc50151",
   "metadata": {},
   "outputs": [],
   "source": [
    "def glassDrop(glasses, floors):\n",
    "    # Create a 2D table where dp[moves][glass] = max number of floors we can check\n",
    "    dp = [[0 for _ in range(glasses + 1)] for _ in range(floors + 1)]\n",
    "    \n",
    "    moves = 0\n",
    "    while dp[moves][glasses] < floors:\n",
    "        moves += 1\n",
    "        for g in range(1, glasses + 1):\n",
    "            dp[moves][g] = 1 + dp[moves - 1][g - 1] + dp[moves - 1][g]\n",
    "    \n",
    "    print(f\"Iterations: {dp[1:moves+1]}\")\n",
    "    return moves\n"
   ]
  },
  {
   "cell_type": "markdown",
   "id": "a2c5c624",
   "metadata": {},
   "source": [
    "### 2 Glasses and 100 Floors"
   ]
  },
  {
   "cell_type": "code",
   "execution_count": 57,
   "id": "6a8bd511",
   "metadata": {},
   "outputs": [
    {
     "name": "stdout",
     "output_type": "stream",
     "text": [
      "Iterations: [[0, 1, 1], [0, 2, 3], [0, 3, 6], [0, 4, 10], [0, 5, 15], [0, 6, 21], [0, 7, 28], [0, 8, 36], [0, 9, 45], [0, 10, 55], [0, 11, 66], [0, 12, 78], [0, 13, 91], [0, 14, 105]]\n",
      "The minimum number of moves: 14\n"
     ]
    }
   ],
   "source": [
    "n = 2\n",
    "k = 100\n",
    "print('The minimum number of moves: '+str(glassDrop(n, k)))"
   ]
  },
  {
   "cell_type": "markdown",
   "id": "924b195a",
   "metadata": {},
   "source": [
    "### 3 Glasses and 100 Floors"
   ]
  },
  {
   "cell_type": "code",
   "execution_count": 58,
   "id": "b5b2be1d",
   "metadata": {},
   "outputs": [
    {
     "name": "stdout",
     "output_type": "stream",
     "text": [
      "Iterations: [[0, 1, 1, 1], [0, 2, 3, 3], [0, 3, 6, 7], [0, 4, 10, 14], [0, 5, 15, 25], [0, 6, 21, 41], [0, 7, 28, 63], [0, 8, 36, 92], [0, 9, 45, 129]]\n",
      "The minimum number of moves: 9\n"
     ]
    }
   ],
   "source": [
    "n = 3\n",
    "k = 100\n",
    "print('The minimum number of moves: '+str(glassDrop(n, k)))"
   ]
  },
  {
   "cell_type": "markdown",
   "id": "35f9a9d9",
   "metadata": {},
   "source": [
    "### 5 Glasses and 1000 Floors"
   ]
  },
  {
   "cell_type": "code",
   "execution_count": 59,
   "id": "25479e87",
   "metadata": {},
   "outputs": [
    {
     "name": "stdout",
     "output_type": "stream",
     "text": [
      "Iterations: [[0, 1, 1, 1, 1, 1], [0, 2, 3, 3, 3, 3], [0, 3, 6, 7, 7, 7], [0, 4, 10, 14, 15, 15], [0, 5, 15, 25, 30, 31], [0, 6, 21, 41, 56, 62], [0, 7, 28, 63, 98, 119], [0, 8, 36, 92, 162, 218], [0, 9, 45, 129, 255, 381], [0, 10, 55, 175, 385, 637], [0, 11, 66, 231, 561, 1023]]\n",
      "The minimum number of moves: 11\n"
     ]
    }
   ],
   "source": [
    "n = 5\n",
    "k = 1000\n",
    "print('The minimum number of moves: '+str(glassDrop(n, k)))"
   ]
  }
 ],
 "metadata": {
  "kernelspec": {
   "display_name": "Python 3",
   "language": "python",
   "name": "python3"
  },
  "language_info": {
   "codemirror_mode": {
    "name": "ipython",
    "version": 3
   },
   "file_extension": ".py",
   "mimetype": "text/x-python",
   "name": "python",
   "nbconvert_exporter": "python",
   "pygments_lexer": "ipython3",
   "version": "3.12.5"
  }
 },
 "nbformat": 4,
 "nbformat_minor": 5
}
