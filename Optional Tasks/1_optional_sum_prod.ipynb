{
 "cells": [
  {
   "cell_type": "markdown",
   "metadata": {},
   "source": [
    "### Problem Statement:\n",
    "\n",
    "There are two whole numbers:\n",
    "`1 < a, b < 100`\n",
    "\n",
    "One scientist (\"Sum\") is provided with the sum of the numbers, \n",
    "another scientist (\"Prod\") is provided with the product of the numbers. \n",
    "\n",
    "Both scientists know that the numbers satisfy the condition 1 < a, b < 100.\n",
    "\n",
    "Determine the numbers based on the following dialog:\n",
    "\n",
    "**Prod**: I don't know the numbers;  \n",
    "**Sum**: I know it;  \n",
    "**Prod**: then I know the numbers;  \n",
    "**Sum**: then I know the numbers too.  \n",
    "***\n",
    "\n"
   ]
  },
  {
   "cell_type": "markdown",
   "metadata": {},
   "source": [
    "The function `generate_all_pairs(limit)` generates all possible pairs (𝑎,𝑏)\n",
    "\n",
    "Where `2`≤𝑎<𝑏<`limit`\n",
    "\n",
    "The generated pairs include values like `[(2, 2), (2, 3), (2, 4), ..., (98, 98), (98, 99), (99, 99)]`.\n",
    "\n",
    "The total number of pairs is `4851`."
   ]
  },
  {
   "cell_type": "code",
   "execution_count": 142,
   "metadata": {},
   "outputs": [],
   "source": [
    "def generate_all_pairs(limit):\n",
    "    return set((a, b) for a in range(2, limit) for b in range(a, limit))"
   ]
  },
  {
   "cell_type": "markdown",
   "metadata": {},
   "source": [
    "### `Step 1: Prod: I don't know the numbers`\n",
    "\n",
    "The function `find_pairs_with_multiple_factorizations(pairs)` filters pairs `(a, b)` where the product `p = a * b` has multiple factorizations.\n",
    "\n",
    "The result contains only pairs that share the same product with at least one other pair\n",
    "\n",
    "After this step, the number of possible candidates for the answer is `3076`."
   ]
  },
  {
   "cell_type": "code",
   "execution_count": 143,
   "metadata": {},
   "outputs": [],
   "source": [
    "def find_pairs_with_multiple_factorizations(pairs):\n",
    "    pairs_list = {}\n",
    "    for a,b in pairs:\n",
    "        p = a*b\n",
    "        if p not in pairs_list:\n",
    "            pairs_list[p] = []\n",
    "        pairs_list[p].append((a,b))\n",
    "\n",
    "    return {pair for P, lst in pairs_list.items() if len(lst) > 1 for pair in lst}"
   ]
  },
  {
   "cell_type": "markdown",
   "metadata": {},
   "source": [
    "The function `get_factorization_counts(pairs)` counts how many times each unique product `p = a * b` appears among all given pairs.\n",
    "\n",
    "The result contains dict where:\n",
    "   - Each key represents a unique product.\n",
    "   - Each value indicates how many times that product was obtained from different pairs.  \n",
    "\n",
    "`Example:`\n",
    "\n",
    "If `pairs = [(2, 6), (3, 4), (3, 6)]`, the function would return:\n",
    "\n",
    "```python\n",
    "{\n",
    "    12: 2,  # 12 appears twice: (2,6) and (3,4)\n",
    "    18: 1   # 18 appears once: (3,6)\n",
    "}"
   ]
  },
  {
   "cell_type": "code",
   "execution_count": 144,
   "metadata": {},
   "outputs": [],
   "source": [
    "def get_factorization_counts(pairs):\n",
    "    factorization_counts = {}\n",
    "    for a, b in pairs:\n",
    "        p = a * b\n",
    "        if p not in factorization_counts:\n",
    "            factorization_counts[p] = 0\n",
    "        factorization_counts[p] += 1\n",
    "    return factorization_counts"
   ]
  },
  {
   "cell_type": "markdown",
   "metadata": {},
   "source": [
    "### `Step 2: Sum: I know it`\n",
    "This indicates that all possible sums of terms must have ambiguous factorization.\n",
    "\n",
    "After this step, the number of possible candidates for the answer is `145`.\n",
    "\n",
    "***"
   ]
  },
  {
   "cell_type": "markdown",
   "metadata": {},
   "source": [
    "The function `is_safe_pair(pair, factorizations)` checks whether a given pair `(a, b)` is \"safe\" based on the sum `s = a + b`.\n",
    "\n",
    "**How it works:**\n",
    "1. Compute the sum: `s = a + b`.\n",
    "2. Iterate through possible values of `i` from `2` to `(s + 1) // 2`.\n",
    "3. Compute `i * (s - i)`, which represents a possible product from splitting `s` into two factors.\n",
    "4. Check if this product appears **more than once** in `factorizations`\n",
    "5. If **all** such factorizations occur more than once, the pair is considered \"safe.\""
   ]
  },
  {
   "cell_type": "code",
   "execution_count": 145,
   "metadata": {},
   "outputs": [],
   "source": [
    "def is_safe_pair(pair, factorizations):\n",
    "    a, b = pair\n",
    "    s = a + b\n",
    "    return all(factorizations.get(i * (s - i), 0) > 1 for i in range(2, (s + 1) // 2))\n"
   ]
  },
  {
   "cell_type": "markdown",
   "metadata": {},
   "source": [
    "The `find_safe_sums` function applies `is_safe_pair` to all pairs and returns a filtered dictionary of pairs according to fact 2"
   ]
  },
  {
   "cell_type": "code",
   "execution_count": 146,
   "metadata": {},
   "outputs": [],
   "source": [
    "\n",
    "def find_safe_sums(pairs, factorizations):\n",
    "    return {pair for pair in pairs if is_safe_pair(pair, factorizations)}"
   ]
  },
  {
   "cell_type": "markdown",
   "metadata": {},
   "source": [
    "### `3. Prod: then I know the numbers`;\n",
    "\n",
    "The function `filter_unique_factorization_pairs(pairs)` filters pairs `(a, b)` where the product `p = a * b` has a unique factorization.\n",
    "\n",
    "The result contains only pairs whose product appears once among all pairs, meaning no other pair has the same product.\n",
    "\n",
    "After this step, the number of possible candidates for the answer is `86`."
   ]
  },
  {
   "cell_type": "code",
   "execution_count": 147,
   "metadata": {},
   "outputs": [],
   "source": [
    "def filter_unique_factorization_pairs(pairs):\n",
    "    factorization_counts = {}\n",
    "\n",
    "    for a, b in pairs:\n",
    "        p = a * b\n",
    "        factorization_counts[p] = factorization_counts.get(p, 0) + 1\n",
    "\n",
    "    return {pair for pair in pairs if factorization_counts[pair[0] * pair[1]] == 1}"
   ]
  },
  {
   "cell_type": "markdown",
   "metadata": {},
   "source": [
    "### `4. Sum: then I know the numbers too.`;\n",
    "\n",
    "The function `unique_sums(pairs)` filters out sums of pairs that have a unique sum.\n",
    "\n",
    "\n",
    "- **Sum: 53**, number of pairs: 18, pairs: \n",
    "  `[(10, 43), (18, 35), (20, 33), (21, 32) ... (16, 37), (23, 30), (24, 29), (22, 31), (13, 40), (12, 41)]`\n",
    "- **Sum: 47**, number of pairs: 13, pairs: \n",
    "  `[(17, 30), (15, 32), (16, 31), (6, 41), (4, 43), (22, 25), (23, 24), (10, 37), (13, 34), (19, 28), (18, 29), (7, 40), (20, 27)]`\n",
    "- **Sum: 35**, number of pairs: 10, pairs: \n",
    "  `[(9, 26), (8, 27), (16, 19), (6, 29), (14, 21), (4, 31), (17, 18), (12, 23), (3, 32), (10, 25)]`\n",
    "- **Sum: 37**, number of pairs: 7, pairs: \n",
    "  `[(10, 27), (9, 28), (5, 32), (8, 29), (16, 21), (6, 31), (17, 20)]`\n",
    "- **Sum: 27**, number of pairs: 9, pairs: \n",
    "  `[(4, 23), (11, 16), (2, 25), (13, 14), (10, 17), (8, 19), (9, 18), (7, 20), (5, 22)]`\n",
    "- **Sum: 41**, number of pairs: 13, pairs: \n",
    "  `[(13, 28), (12, 29), (10, 31), (18, 23), (19, 22), (9, 32), (7, 34), (17, 24), (15, 26), (16, 25), (14, 27), (3, 38), (4, 37)]`\n",
    "- **Sum: 11**, number of pairs: 3, pairs: \n",
    "  `[(3, 8), (4, 7), (2, 9)]`\n",
    "- **Sum: 29**, number of pairs: 9, pairs: \n",
    "  `[(4, 25), (2, 27), (13, 16), (12, 17), (10, 19), (11, 18), (8, 21), (6, 23), (7, 22)]`\n",
    "- **Sum: 23**, number of pairs: 3, pairs: \n",
    "  `[(7, 16), (4, 19), (10, 13)]`\n",
    "- **Sum: 17**, number of pairs: 1, pairs: \n",
    "  <span style=\"color: black; background-color: red;\">`[(4, 13)]`</span>\n",
    "\n",
    "After this step, the number of possible candidates for the answer is <span style=\"color: black; background-color: red;\">1</span>"
   ]
  },
  {
   "cell_type": "code",
   "execution_count": 148,
   "metadata": {},
   "outputs": [],
   "source": [
    "def unique_sums(pairs):\n",
    "    sum_groups = {}\n",
    "    for a, b in pairs:\n",
    "        s = a + b\n",
    "        sum_groups[s] = sum_groups.get(s, []) + [(a, b)]   \n",
    "    return [lst[0] for s, lst in sum_groups.items() if len(lst) == 1]\n"
   ]
  },
  {
   "cell_type": "code",
   "execution_count": 149,
   "metadata": {},
   "outputs": [
    {
     "data": {
      "text/plain": [
       "[(4, 13)]"
      ]
     },
     "execution_count": 149,
     "metadata": {},
     "output_type": "execute_result"
    }
   ],
   "source": [
    "# Start \n",
    "limit = 100\n",
    "all_pairs = generate_all_pairs(limit)\n",
    "\n",
    "# Prod: I don't know the numbers;\n",
    "filtered_pairs = find_pairs_with_multiple_factorizations(all_pairs)\n",
    "factorization = get_factorization_counts(filtered_pairs)\n",
    "\n",
    "# Sum: I know it;\n",
    "safe_sums_pairs = find_safe_sums(filtered_pairs,factorization)\n",
    "\n",
    "# Prod: then I know the numbers;\n",
    "filter_unique_factorization = filter_unique_factorization_pairs(safe_sums_pairs)\n",
    "filter_unique_factorization\n",
    "\n",
    "# Sum: then I know the numbers too.\n",
    "result = unique_sums(filter_unique_factorization)\n",
    "\n",
    "# Problem solving\n",
    "result"
   ]
  }
 ],
 "metadata": {
  "kernelspec": {
   "display_name": "Python 3",
   "language": "python",
   "name": "python3"
  },
  "language_info": {
   "codemirror_mode": {
    "name": "ipython",
    "version": 3
   },
   "file_extension": ".py",
   "mimetype": "text/x-python",
   "name": "python",
   "nbconvert_exporter": "python",
   "pygments_lexer": "ipython3",
   "version": "3.12.5"
  }
 },
 "nbformat": 4,
 "nbformat_minor": 2
}
