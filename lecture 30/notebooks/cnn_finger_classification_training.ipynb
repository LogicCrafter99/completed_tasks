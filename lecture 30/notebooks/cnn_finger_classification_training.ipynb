{
 "cells": [
  {
   "cell_type": "markdown",
   "id": "0f5addb8",
   "metadata": {},
   "source": [
    "### Import"
   ]
  },
  {
   "cell_type": "code",
   "execution_count": 1,
   "id": "20e8e1bc",
   "metadata": {},
   "outputs": [],
   "source": [
    "import os\n",
    "import cv2\n",
    "import numpy as np\n",
    "\n",
    "from sklearn.model_selection import train_test_split\n",
    "from tensorflow.keras.utils import to_categorical\n",
    "from tensorflow.keras.preprocessing.image import ImageDataGenerator\n",
    "from keras.models import Sequential\n",
    "from keras.layers import Activation, Dropout, Flatten, Dense, Conv2D, MaxPooling2D\n",
    "from tensorflow.keras.optimizers import Adam\n",
    "import matplotlib.pyplot as plt\n",
    "import warnings\n",
    "import kagglehub"
   ]
  },
  {
   "cell_type": "code",
   "execution_count": 2,
   "id": "926b5f36",
   "metadata": {},
   "outputs": [],
   "source": [
    "warnings.filterwarnings('ignore')"
   ]
  },
  {
   "cell_type": "markdown",
   "id": "367ea997",
   "metadata": {},
   "source": [
    "## `Finger Digits 0–5 Dataset Overview`\n",
    "\n",
    "The **Finger Digits 0–5** dataset is a hand gesture image dataset designed for real-time digit classification tasks, where the objective is to recognize the number of fingers (from 0 to 5) shown by a hand in an image. \n",
    "\n",
    "### Dataset Summary  \n",
    "- **Samples:** ~12,000 images  \n",
    "- **Image Size:** 128 × 128 pixels  \n",
    "- **Channels:** 1 (grayscale, thresholded)  \n",
    "- **Classes:** 6 (digits 0 to 5)  \n",
    "- **Format:** Preprocessed (thresholded) images  \n",
    "- **Balance:** ~2000 images per class  \n",
    "\n",
    "### Dataset Link  \n",
    "Link to the dataset on Kaggle\n",
    "\n",
    "[https://www.kaggle.com/datasets/roshea6/finger-digits-05](https://www.kaggle.com/datasets/roshea6/finger-digits-05)"
   ]
  },
  {
   "cell_type": "code",
   "execution_count": 6,
   "id": "5d8015d1",
   "metadata": {},
   "outputs": [],
   "source": [
    "os.environ[\"KAGGLEHUB_CACHE\"] = \"data\"\n",
    "\n",
    "path = kagglehub.dataset_download(\"roshea6/finger-digits-05\")"
   ]
  },
  {
   "cell_type": "markdown",
   "id": "79aca86c",
   "metadata": {},
   "source": [
    "## Constants"
   ]
  },
  {
   "cell_type": "code",
   "execution_count": 7,
   "id": "c5d2e9c5",
   "metadata": {},
   "outputs": [],
   "source": [
    "NUM_CLASSES = 6 # The number of output classes, representing digits from 0 to 5 (inclusive)\n",
    "IMG_SIZE = 64   # The width and height to which all input images are resized (64x64 pixels)\n",
    "IMAGES_DIR = os.path.join(path, \"training_images (copy)\")  # Directory where images are stored"
   ]
  },
  {
   "cell_type": "markdown",
   "id": "c3c45504",
   "metadata": {},
   "source": [
    "#### Displaying the Image"
   ]
  },
  {
   "cell_type": "code",
   "execution_count": 8,
   "id": "a59bed9d",
   "metadata": {},
   "outputs": [
    {
     "data": {
      "text/plain": [
       "<matplotlib.image.AxesImage at 0x110b9b5b6e0>"
      ]
     },
     "execution_count": 8,
     "metadata": {},
     "output_type": "execute_result"
    },
    {
     "data": {
      "image/png": "[encoded data removed]",
      "text/plain": [
       "<Figure size 640x480 with 1 Axes>"
      ]
     },
     "metadata": {},
     "output_type": "display_data"
    }
   ],
   "source": [
    "img_path = os.path.join(IMAGES_DIR, \"0_1.png\")\n",
    "img = cv2.imread(img_path,0)\n",
    "img = cv2.resize(img,(IMG_SIZE,IMG_SIZE))\n",
    "plt.imshow(img,cmap='gray')"
   ]
  },
  {
   "cell_type": "markdown",
   "id": "dd2567cc",
   "metadata": {},
   "source": [
    "#### Checking Image Dimensions"
   ]
  },
  {
   "cell_type": "code",
   "execution_count": 9,
   "id": "6df09156",
   "metadata": {},
   "outputs": [
    {
     "data": {
      "text/plain": [
       "(64, 64)"
      ]
     },
     "execution_count": 9,
     "metadata": {},
     "output_type": "execute_result"
    }
   ],
   "source": [
    "img.shape"
   ]
  },
  {
   "cell_type": "markdown",
   "id": "34b6b986",
   "metadata": {},
   "source": [
    "#### Checking Maximum Pixel Value"
   ]
  },
  {
   "cell_type": "code",
   "execution_count": 10,
   "id": "16389908",
   "metadata": {},
   "outputs": [
    {
     "data": {
      "text/plain": [
       "255"
      ]
     },
     "execution_count": 10,
     "metadata": {},
     "output_type": "execute_result"
    }
   ],
   "source": [
    "img.max()"
   ]
  },
  {
   "cell_type": "markdown",
   "id": "1f54dc7f",
   "metadata": {},
   "source": [
    "## Loading the Dataset"
   ]
  },
  {
   "cell_type": "markdown",
   "id": "382fa2c2",
   "metadata": {},
   "source": [
    "The `load_images_and_labels` function loads images from a specified directory, extracts their labels based on the filenames"
   ]
  },
  {
   "cell_type": "code",
   "execution_count": 11,
   "id": "aca6ba0c",
   "metadata": {},
   "outputs": [],
   "source": [
    "def load_images_and_labels(image_dir, img_size=64):\n",
    "    \"\"\"\n",
    "    Loads images from a specified directory, extracts their labels\n",
    "\n",
    "    Args:\n",
    "    - image_dir (str): The directory containing the image files.\n",
    "    - img_size (int): The size to which images will be resized (default is 64).\n",
    "    - channels (int): The number of channels for the images (1 for grayscale, 3 for RGB).\n",
    "\n",
    "    Returns:\n",
    "    - X (numpy array): Array of preprocessed images.\n",
    "    - y (numpy array): Array of labels corresponding to the images.\n",
    "    \"\"\"\n",
    "\n",
    "    X = []  # List to store images\n",
    "    y = []  # List to store labels\n",
    "\n",
    "    for filename in os.listdir(image_dir):\n",
    "        if filename.endswith(\".png\"):\n",
    "            label = int(filename.split(\"_\")[1].split(\".\")[0])\n",
    "\n",
    "            img_path = os.path.join(image_dir, filename)\n",
    "            img = cv2.imread(img_path, 0)  # Load image in grayscale\n",
    "            img = cv2.resize(img, (img_size, img_size))\n",
    "\n",
    "            X.append(img)\n",
    "            y.append(label)\n",
    "    \n",
    "    return X, y"
   ]
  },
  {
   "cell_type": "markdown",
   "id": "46753755",
   "metadata": {},
   "source": [
    "#### Load the images using the `load_images_and_labels`"
   ]
  },
  {
   "cell_type": "code",
   "execution_count": 12,
   "id": "c3e411f0",
   "metadata": {},
   "outputs": [],
   "source": [
    "X, y = load_images_and_labels(IMAGES_DIR,IMG_SIZE)"
   ]
  },
  {
   "cell_type": "markdown",
   "id": "d46cfff0",
   "metadata": {},
   "source": [
    "#### Reshapes and normalizes the images"
   ]
  },
  {
   "cell_type": "code",
   "execution_count": 13,
   "id": "ba616866",
   "metadata": {},
   "outputs": [],
   "source": [
    "X = np.array(X).reshape(-1, IMG_SIZE, IMG_SIZE, 1)  # (samples, 64, 64, 1)\n",
    "X = X / 255.0  \n",
    "y = np.array(y)"
   ]
  },
  {
   "cell_type": "code",
   "execution_count": 14,
   "id": "93a118a4",
   "metadata": {},
   "outputs": [
    {
     "name": "stdout",
     "output_type": "stream",
     "text": [
      "Total number of images: 12006\n",
      "Shape X: (12006, 64, 64, 1)\n",
      "Unique labels (classes): [0 1 2 3 4 5]\n"
     ]
    }
   ],
   "source": [
    "print(f\"Total number of images: {len(y)}\")\n",
    "print(f\"Shape X: {X.shape}\")\n",
    "print(f\"Unique labels (classes): {np.unique(y)}\")"
   ]
  },
  {
   "cell_type": "markdown",
   "id": "ce2e57a8",
   "metadata": {},
   "source": [
    "### Splitting the Dataset"
   ]
  },
  {
   "cell_type": "code",
   "execution_count": 15,
   "id": "6925046c",
   "metadata": {},
   "outputs": [
    {
     "name": "stdout",
     "output_type": "stream",
     "text": [
      "Training set: (9004, 64, 64, 1), (9004, 6)\n",
      "Test set: (3002, 64, 64, 1), (3002, 6)\n"
     ]
    }
   ],
   "source": [
    "y_cat = to_categorical(y, NUM_CLASSES)\n",
    "\n",
    "X_train, X_test, y_train, y_test = train_test_split(X, y_cat,random_state=0)\n",
    "\n",
    "print(f\"Training set: {X_train.shape}, {y_train.shape}\")\n",
    "print(f\"Test set: {X_test.shape}, {y_test.shape}\")"
   ]
  },
  {
   "cell_type": "markdown",
   "id": "5c1bc6df",
   "metadata": {},
   "source": [
    "### Data Augmentation\n",
    "Data augmentation to artificially increase the size of the training dataset by applying random transformations to the original images. This helps to prevent overfitting and allows the model to generalize better"
   ]
  },
  {
   "cell_type": "code",
   "execution_count": 16,
   "id": "7ad99900",
   "metadata": {},
   "outputs": [],
   "source": [
    "datagen = ImageDataGenerator(\n",
    "    rotation_range=20,        # Random rotations (up to 20 degrees)\n",
    "    width_shift_range=0.2,    # Width shift (up to 20%)\n",
    "    height_shift_range=0.35,   # Height shift (up to 35%)\n",
    "    shear_range=0.15,         # Shear/distortion\n",
    "    zoom_range=0.2,           # Zooming\n",
    "    horizontal_flip=True,     # Horizontal flip (hands should be represented in both orientations in the dataset?)\n",
    "    fill_mode='nearest'       # Fill new pixels after transformations\n",
    ")"
   ]
  },
  {
   "cell_type": "markdown",
   "id": "41cde7c5",
   "metadata": {},
   "source": [
    "### Training Data Generator"
   ]
  },
  {
   "cell_type": "code",
   "execution_count": 17,
   "id": "1fce0017",
   "metadata": {},
   "outputs": [],
   "source": [
    "batch_size = 32\n",
    "\n",
    "train_generator = datagen.flow(X_train, y_train, batch_size=batch_size,)\n",
    "test_generator = datagen.flow(X_test, y_test, batch_size=batch_size)"
   ]
  },
  {
   "cell_type": "markdown",
   "id": "fc59aaec",
   "metadata": {},
   "source": [
    "### Viewing the generated image with train_generator"
   ]
  },
  {
   "cell_type": "code",
   "execution_count": 18,
   "id": "1698a730",
   "metadata": {},
   "outputs": [
    {
     "data": {
      "image/png": "[encoded data removed]",
      "text/plain": [
       "<Figure size 640x480 with 1 Axes>"
      ]
     },
     "metadata": {},
     "output_type": "display_data"
    }
   ],
   "source": [
    "images, labels  = next(train_generator)\n",
    "\n",
    "plt.imshow(images[0], cmap='gray')\n",
    "plt.title(f\"Label: {labels[0]}\")\n",
    "plt.show()"
   ]
  },
  {
   "cell_type": "markdown",
   "id": "b4c9ad7b",
   "metadata": {},
   "source": [
    "## CNN Model Architecture\n",
    "\n",
    "Define a Convolutional Neural Network (CNN) \n",
    "The input images are resized to **64x64** and have a single channel. The model includes:\n",
    "\n",
    "- Three convolutional blocks with increasing filter sizes (32 -> 64 -> 128), each followed by a max pooling layer.\n",
    "- A fully connected dense layer with 128 neurons and a dropout layer to reduce overfitting.\n",
    "- An output layer with **6 units** and softmax activation to predict the digit class (0–5).\n",
    "\n",
    "The model is compiled using the **Adam optimizer** and `categorical_crossentropy` loss function for multi-class classification."
   ]
  },
  {
   "cell_type": "code",
   "execution_count": 19,
   "id": "49f45263",
   "metadata": {},
   "outputs": [
    {
     "data": {
      "text/html": [
       "<pre style=\"white-space:pre;overflow-x:auto;line-height:normal;font-family:Menlo,'DejaVu Sans Mono',consolas,'Courier New',monospace\"><span style=\"font-weight: bold\">Model: \"sequential\"</span>\n",
       "</pre>\n"
      ],
      "text/plain": [
       "\u001b[1mModel: \"sequential\"\u001b[0m\n"
      ]
     },
     "metadata": {},
     "output_type": "display_data"
    },
    {
     "data": {
      "text/html": [
       "<pre style=\"white-space:pre;overflow-x:auto;line-height:normal;font-family:Menlo,'DejaVu Sans Mono',consolas,'Courier New',monospace\">┏━━━━━━━━━━━━━━━━━━━━━━━━━━━━━━━━━┳━━━━━━━━━━━━━━━━━━━━━━━━┳━━━━━━━━━━━━━━━┓\n",
       "┃<span style=\"font-weight: bold\"> Layer (type)                    </span>┃<span style=\"font-weight: bold\"> Output Shape           </span>┃<span style=\"font-weight: bold\">       Param # </span>┃\n",
       "┡━━━━━━━━━━━━━━━━━━━━━━━━━━━━━━━━━╇━━━━━━━━━━━━━━━━━━━━━━━━╇━━━━━━━━━━━━━━━┩\n",
       "│ conv2d (<span style=\"color: #0087ff; text-decoration-color: #0087ff\">Conv2D</span>)                 │ (<span style=\"color: #00d7ff; text-decoration-color: #00d7ff\">None</span>, <span style=\"color: #00af00; text-decoration-color: #00af00\">62</span>, <span style=\"color: #00af00; text-decoration-color: #00af00\">62</span>, <span style=\"color: #00af00; text-decoration-color: #00af00\">32</span>)     │           <span style=\"color: #00af00; text-decoration-color: #00af00\">320</span> │\n",
       "├─────────────────────────────────┼────────────────────────┼───────────────┤\n",
       "│ max_pooling2d (<span style=\"color: #0087ff; text-decoration-color: #0087ff\">MaxPooling2D</span>)    │ (<span style=\"color: #00d7ff; text-decoration-color: #00d7ff\">None</span>, <span style=\"color: #00af00; text-decoration-color: #00af00\">31</span>, <span style=\"color: #00af00; text-decoration-color: #00af00\">31</span>, <span style=\"color: #00af00; text-decoration-color: #00af00\">32</span>)     │             <span style=\"color: #00af00; text-decoration-color: #00af00\">0</span> │\n",
       "├─────────────────────────────────┼────────────────────────┼───────────────┤\n",
       "│ conv2d_1 (<span style=\"color: #0087ff; text-decoration-color: #0087ff\">Conv2D</span>)               │ (<span style=\"color: #00d7ff; text-decoration-color: #00d7ff\">None</span>, <span style=\"color: #00af00; text-decoration-color: #00af00\">29</span>, <span style=\"color: #00af00; text-decoration-color: #00af00\">29</span>, <span style=\"color: #00af00; text-decoration-color: #00af00\">64</span>)     │        <span style=\"color: #00af00; text-decoration-color: #00af00\">18,496</span> │\n",
       "├─────────────────────────────────┼────────────────────────┼───────────────┤\n",
       "│ max_pooling2d_1 (<span style=\"color: #0087ff; text-decoration-color: #0087ff\">MaxPooling2D</span>)  │ (<span style=\"color: #00d7ff; text-decoration-color: #00d7ff\">None</span>, <span style=\"color: #00af00; text-decoration-color: #00af00\">14</span>, <span style=\"color: #00af00; text-decoration-color: #00af00\">14</span>, <span style=\"color: #00af00; text-decoration-color: #00af00\">64</span>)     │             <span style=\"color: #00af00; text-decoration-color: #00af00\">0</span> │\n",
       "├─────────────────────────────────┼────────────────────────┼───────────────┤\n",
       "│ conv2d_2 (<span style=\"color: #0087ff; text-decoration-color: #0087ff\">Conv2D</span>)               │ (<span style=\"color: #00d7ff; text-decoration-color: #00d7ff\">None</span>, <span style=\"color: #00af00; text-decoration-color: #00af00\">12</span>, <span style=\"color: #00af00; text-decoration-color: #00af00\">12</span>, <span style=\"color: #00af00; text-decoration-color: #00af00\">128</span>)    │        <span style=\"color: #00af00; text-decoration-color: #00af00\">73,856</span> │\n",
       "├─────────────────────────────────┼────────────────────────┼───────────────┤\n",
       "│ max_pooling2d_2 (<span style=\"color: #0087ff; text-decoration-color: #0087ff\">MaxPooling2D</span>)  │ (<span style=\"color: #00d7ff; text-decoration-color: #00d7ff\">None</span>, <span style=\"color: #00af00; text-decoration-color: #00af00\">6</span>, <span style=\"color: #00af00; text-decoration-color: #00af00\">6</span>, <span style=\"color: #00af00; text-decoration-color: #00af00\">128</span>)      │             <span style=\"color: #00af00; text-decoration-color: #00af00\">0</span> │\n",
       "├─────────────────────────────────┼────────────────────────┼───────────────┤\n",
       "│ flatten (<span style=\"color: #0087ff; text-decoration-color: #0087ff\">Flatten</span>)               │ (<span style=\"color: #00d7ff; text-decoration-color: #00d7ff\">None</span>, <span style=\"color: #00af00; text-decoration-color: #00af00\">4608</span>)           │             <span style=\"color: #00af00; text-decoration-color: #00af00\">0</span> │\n",
       "├─────────────────────────────────┼────────────────────────┼───────────────┤\n",
       "│ dense (<span style=\"color: #0087ff; text-decoration-color: #0087ff\">Dense</span>)                   │ (<span style=\"color: #00d7ff; text-decoration-color: #00d7ff\">None</span>, <span style=\"color: #00af00; text-decoration-color: #00af00\">128</span>)            │       <span style=\"color: #00af00; text-decoration-color: #00af00\">589,952</span> │\n",
       "├─────────────────────────────────┼────────────────────────┼───────────────┤\n",
       "│ dropout (<span style=\"color: #0087ff; text-decoration-color: #0087ff\">Dropout</span>)               │ (<span style=\"color: #00d7ff; text-decoration-color: #00d7ff\">None</span>, <span style=\"color: #00af00; text-decoration-color: #00af00\">128</span>)            │             <span style=\"color: #00af00; text-decoration-color: #00af00\">0</span> │\n",
       "├─────────────────────────────────┼────────────────────────┼───────────────┤\n",
       "│ dense_1 (<span style=\"color: #0087ff; text-decoration-color: #0087ff\">Dense</span>)                 │ (<span style=\"color: #00d7ff; text-decoration-color: #00d7ff\">None</span>, <span style=\"color: #00af00; text-decoration-color: #00af00\">6</span>)              │           <span style=\"color: #00af00; text-decoration-color: #00af00\">774</span> │\n",
       "└─────────────────────────────────┴────────────────────────┴───────────────┘\n",
       "</pre>\n"
      ],
      "text/plain": [
       "┏━━━━━━━━━━━━━━━━━━━━━━━━━━━━━━━━━┳━━━━━━━━━━━━━━━━━━━━━━━━┳━━━━━━━━━━━━━━━┓\n",
       "┃\u001b[1m \u001b[0m\u001b[1mLayer (type)                   \u001b[0m\u001b[1m \u001b[0m┃\u001b[1m \u001b[0m\u001b[1mOutput Shape          \u001b[0m\u001b[1m \u001b[0m┃\u001b[1m \u001b[0m\u001b[1m      Param #\u001b[0m\u001b[1m \u001b[0m┃\n",
       "┡━━━━━━━━━━━━━━━━━━━━━━━━━━━━━━━━━╇━━━━━━━━━━━━━━━━━━━━━━━━╇━━━━━━━━━━━━━━━┩\n",
       "│ conv2d (\u001b[38;5;33mConv2D\u001b[0m)                 │ (\u001b[38;5;45mNone\u001b[0m, \u001b[38;5;34m62\u001b[0m, \u001b[38;5;34m62\u001b[0m, \u001b[38;5;34m32\u001b[0m)     │           \u001b[38;5;34m320\u001b[0m │\n",
       "├─────────────────────────────────┼────────────────────────┼───────────────┤\n",
       "│ max_pooling2d (\u001b[38;5;33mMaxPooling2D\u001b[0m)    │ (\u001b[38;5;45mNone\u001b[0m, \u001b[38;5;34m31\u001b[0m, \u001b[38;5;34m31\u001b[0m, \u001b[38;5;34m32\u001b[0m)     │             \u001b[38;5;34m0\u001b[0m │\n",
       "├─────────────────────────────────┼────────────────────────┼───────────────┤\n",
       "│ conv2d_1 (\u001b[38;5;33mConv2D\u001b[0m)               │ (\u001b[38;5;45mNone\u001b[0m, \u001b[38;5;34m29\u001b[0m, \u001b[38;5;34m29\u001b[0m, \u001b[38;5;34m64\u001b[0m)     │        \u001b[38;5;34m18,496\u001b[0m │\n",
       "├─────────────────────────────────┼────────────────────────┼───────────────┤\n",
       "│ max_pooling2d_1 (\u001b[38;5;33mMaxPooling2D\u001b[0m)  │ (\u001b[38;5;45mNone\u001b[0m, \u001b[38;5;34m14\u001b[0m, \u001b[38;5;34m14\u001b[0m, \u001b[38;5;34m64\u001b[0m)     │             \u001b[38;5;34m0\u001b[0m │\n",
       "├─────────────────────────────────┼────────────────────────┼───────────────┤\n",
       "│ conv2d_2 (\u001b[38;5;33mConv2D\u001b[0m)               │ (\u001b[38;5;45mNone\u001b[0m, \u001b[38;5;34m12\u001b[0m, \u001b[38;5;34m12\u001b[0m, \u001b[38;5;34m128\u001b[0m)    │        \u001b[38;5;34m73,856\u001b[0m │\n",
       "├─────────────────────────────────┼────────────────────────┼───────────────┤\n",
       "│ max_pooling2d_2 (\u001b[38;5;33mMaxPooling2D\u001b[0m)  │ (\u001b[38;5;45mNone\u001b[0m, \u001b[38;5;34m6\u001b[0m, \u001b[38;5;34m6\u001b[0m, \u001b[38;5;34m128\u001b[0m)      │             \u001b[38;5;34m0\u001b[0m │\n",
       "├─────────────────────────────────┼────────────────────────┼───────────────┤\n",
       "│ flatten (\u001b[38;5;33mFlatten\u001b[0m)               │ (\u001b[38;5;45mNone\u001b[0m, \u001b[38;5;34m4608\u001b[0m)           │             \u001b[38;5;34m0\u001b[0m │\n",
       "├─────────────────────────────────┼────────────────────────┼───────────────┤\n",
       "│ dense (\u001b[38;5;33mDense\u001b[0m)                   │ (\u001b[38;5;45mNone\u001b[0m, \u001b[38;5;34m128\u001b[0m)            │       \u001b[38;5;34m589,952\u001b[0m │\n",
       "├─────────────────────────────────┼────────────────────────┼───────────────┤\n",
       "│ dropout (\u001b[38;5;33mDropout\u001b[0m)               │ (\u001b[38;5;45mNone\u001b[0m, \u001b[38;5;34m128\u001b[0m)            │             \u001b[38;5;34m0\u001b[0m │\n",
       "├─────────────────────────────────┼────────────────────────┼───────────────┤\n",
       "│ dense_1 (\u001b[38;5;33mDense\u001b[0m)                 │ (\u001b[38;5;45mNone\u001b[0m, \u001b[38;5;34m6\u001b[0m)              │           \u001b[38;5;34m774\u001b[0m │\n",
       "└─────────────────────────────────┴────────────────────────┴───────────────┘\n"
      ]
     },
     "metadata": {},
     "output_type": "display_data"
    },
    {
     "data": {
      "text/html": [
       "<pre style=\"white-space:pre;overflow-x:auto;line-height:normal;font-family:Menlo,'DejaVu Sans Mono',consolas,'Courier New',monospace\"><span style=\"font-weight: bold\"> Total params: </span><span style=\"color: #00af00; text-decoration-color: #00af00\">683,398</span> (2.61 MB)\n",
       "</pre>\n"
      ],
      "text/plain": [
       "\u001b[1m Total params: \u001b[0m\u001b[38;5;34m683,398\u001b[0m (2.61 MB)\n"
      ]
     },
     "metadata": {},
     "output_type": "display_data"
    },
    {
     "data": {
      "text/html": [
       "<pre style=\"white-space:pre;overflow-x:auto;line-height:normal;font-family:Menlo,'DejaVu Sans Mono',consolas,'Courier New',monospace\"><span style=\"font-weight: bold\"> Trainable params: </span><span style=\"color: #00af00; text-decoration-color: #00af00\">683,398</span> (2.61 MB)\n",
       "</pre>\n"
      ],
      "text/plain": [
       "\u001b[1m Trainable params: \u001b[0m\u001b[38;5;34m683,398\u001b[0m (2.61 MB)\n"
      ]
     },
     "metadata": {},
     "output_type": "display_data"
    },
    {
     "data": {
      "text/html": [
       "<pre style=\"white-space:pre;overflow-x:auto;line-height:normal;font-family:Menlo,'DejaVu Sans Mono',consolas,'Courier New',monospace\"><span style=\"font-weight: bold\"> Non-trainable params: </span><span style=\"color: #00af00; text-decoration-color: #00af00\">0</span> (0.00 B)\n",
       "</pre>\n"
      ],
      "text/plain": [
       "\u001b[1m Non-trainable params: \u001b[0m\u001b[38;5;34m0\u001b[0m (0.00 B)\n"
      ]
     },
     "metadata": {},
     "output_type": "display_data"
    }
   ],
   "source": [
    "input_shape = (IMG_SIZE, IMG_SIZE, 1)\n",
    "\n",
    "model = Sequential([\n",
    "    Conv2D(32, (3, 3), activation='relu', input_shape=input_shape),\n",
    "    MaxPooling2D((2, 2)),\n",
    "\n",
    "    Conv2D(64, (3, 3), activation='relu', input_shape=input_shape), \n",
    "    MaxPooling2D((2, 2)),\n",
    "\n",
    "    Conv2D(128, (3, 3), activation='relu', input_shape=input_shape),\n",
    "    MaxPooling2D((2, 2)),\n",
    "\n",
    "    Flatten(),\n",
    "    Dense(128, activation='relu'),\n",
    "    Dropout(0.5),\n",
    "\n",
    "    Dense(NUM_CLASSES, activation='softmax')\n",
    "])\n",
    "\n",
    "model.compile(optimizer='adam', loss='categorical_crossentropy', metrics=['accuracy'])\n",
    "\n",
    "model.summary()"
   ]
  },
  {
   "cell_type": "markdown",
   "id": "f50f9f8d",
   "metadata": {},
   "source": [
    "### Model Architecture Breakdown\n",
    "\n",
    "1. **Conv2D (conv2d)**: First convolutional layer with 32 filters of size 3x3, reducing the image size from (64x64) to (62x62)\n",
    "2. **MaxPooling2D (max_pooling2d)**: Max pooling layer that reduces the spatial dimensions of the image to (31x31)\n",
    "3. **Conv2D (conv2d_1)**: Second convolutional layer with 64 filters of size 3x3, reducing the size to (29x29)\n",
    "4. **MaxPooling2D (max_pooling2d_1)**: Max pooling layer that further reduces the dimensions to (14x14)\n",
    "5. **Conv2D (conv2d_2)**: Third convolutional layer with 128 filters of size 3x3, reducing the size to (12x12)\n",
    "6. **MaxPooling2D (max_pooling2d_2\")**: Max pooling layer that reduces the dimensions to (6x6)\n",
    "7. **Flatten (flatten)**: Flattens the spatial dimensions into a one-dimensional vector of size 4608\n",
    "8. **Dense (dense)**: Fully connected layer with 128 neurons for further processing\n",
    "9. **Dropout (dropout)**: Dropout layer applied to reduce overfitting by randomly setting a fraction of input units to 0 during training\n",
    "10. **Dense (dense_1)**: Final output layer with 6 neurons, corresponding to the 6 output classes (digits 0-5)\n",
    "---"
   ]
  },
  {
   "cell_type": "markdown",
   "id": "0950bfac",
   "metadata": {},
   "source": [
    "## Training the Model\n",
    "\n",
    "The CNN model is trained using the augmented training data generated with `ImageDataGenerator`. Training parameters:\n",
    "\n",
    "- **Epochs**: 15\n",
    "- **Batch size**: 32"
   ]
  },
  {
   "cell_type": "code",
   "execution_count": 20,
   "id": "12c6c228",
   "metadata": {},
   "outputs": [
    {
     "name": "stdout",
     "output_type": "stream",
     "text": [
      "Epoch 1/15\n",
      "\u001b[1m282/282\u001b[0m \u001b[32m━━━━━━━━━━━━━━━━━━━━\u001b[0m\u001b[37m\u001b[0m \u001b[1m43s\u001b[0m 143ms/step - accuracy: 0.4564 - loss: 1.2727 - val_accuracy: 0.8584 - val_loss: 0.3760\n",
      "Epoch 2/15\n",
      "\u001b[1m282/282\u001b[0m \u001b[32m━━━━━━━━━━━━━━━━━━━━\u001b[0m\u001b[37m\u001b[0m \u001b[1m32s\u001b[0m 114ms/step - accuracy: 0.8386 - loss: 0.4082 - val_accuracy: 0.8881 - val_loss: 0.2806\n",
      "Epoch 3/15\n",
      "\u001b[1m282/282\u001b[0m \u001b[32m━━━━━━━━━━━━━━━━━━━━\u001b[0m\u001b[37m\u001b[0m \u001b[1m31s\u001b[0m 111ms/step - accuracy: 0.8809 - loss: 0.3116 - val_accuracy: 0.9567 - val_loss: 0.1206\n",
      "Epoch 4/15\n",
      "\u001b[1m282/282\u001b[0m \u001b[32m━━━━━━━━━━━━━━━━━━━━\u001b[0m\u001b[37m\u001b[0m \u001b[1m42s\u001b[0m 147ms/step - accuracy: 0.9216 - loss: 0.2203 - val_accuracy: 0.9547 - val_loss: 0.1270\n",
      "Epoch 5/15\n",
      "\u001b[1m282/282\u001b[0m \u001b[32m━━━━━━━━━━━━━━━━━━━━\u001b[0m\u001b[37m\u001b[0m \u001b[1m38s\u001b[0m 134ms/step - accuracy: 0.9338 - loss: 0.1816 - val_accuracy: 0.9597 - val_loss: 0.1182\n",
      "Epoch 6/15\n",
      "\u001b[1m282/282\u001b[0m \u001b[32m━━━━━━━━━━━━━━━━━━━━\u001b[0m\u001b[37m\u001b[0m \u001b[1m38s\u001b[0m 134ms/step - accuracy: 0.9459 - loss: 0.1666 - val_accuracy: 0.9720 - val_loss: 0.0817\n",
      "Epoch 7/15\n",
      "\u001b[1m282/282\u001b[0m \u001b[32m━━━━━━━━━━━━━━━━━━━━\u001b[0m\u001b[37m\u001b[0m \u001b[1m42s\u001b[0m 148ms/step - accuracy: 0.9473 - loss: 0.1487 - val_accuracy: 0.9684 - val_loss: 0.0822\n",
      "Epoch 8/15\n",
      "\u001b[1m282/282\u001b[0m \u001b[32m━━━━━━━━━━━━━━━━━━━━\u001b[0m\u001b[37m\u001b[0m \u001b[1m32s\u001b[0m 113ms/step - accuracy: 0.9567 - loss: 0.1297 - val_accuracy: 0.9833 - val_loss: 0.0478\n",
      "Epoch 9/15\n",
      "\u001b[1m282/282\u001b[0m \u001b[32m━━━━━━━━━━━━━━━━━━━━\u001b[0m\u001b[37m\u001b[0m \u001b[1m36s\u001b[0m 126ms/step - accuracy: 0.9598 - loss: 0.1186 - val_accuracy: 0.9797 - val_loss: 0.0593\n",
      "Epoch 10/15\n",
      "\u001b[1m282/282\u001b[0m \u001b[32m━━━━━━━━━━━━━━━━━━━━\u001b[0m\u001b[37m\u001b[0m \u001b[1m43s\u001b[0m 133ms/step - accuracy: 0.9605 - loss: 0.1078 - val_accuracy: 0.9800 - val_loss: 0.0578\n",
      "Epoch 11/15\n",
      "\u001b[1m282/282\u001b[0m \u001b[32m━━━━━━━━━━━━━━━━━━━━\u001b[0m\u001b[37m\u001b[0m \u001b[1m41s\u001b[0m 145ms/step - accuracy: 0.9644 - loss: 0.1088 - val_accuracy: 0.9827 - val_loss: 0.0490\n",
      "Epoch 12/15\n",
      "\u001b[1m282/282\u001b[0m \u001b[32m━━━━━━━━━━━━━━━━━━━━\u001b[0m\u001b[37m\u001b[0m \u001b[1m31s\u001b[0m 108ms/step - accuracy: 0.9688 - loss: 0.0910 - val_accuracy: 0.9817 - val_loss: 0.0558\n",
      "Epoch 13/15\n",
      "\u001b[1m282/282\u001b[0m \u001b[32m━━━━━━━━━━━━━━━━━━━━\u001b[0m\u001b[37m\u001b[0m \u001b[1m28s\u001b[0m 98ms/step - accuracy: 0.9778 - loss: 0.0725 - val_accuracy: 0.9870 - val_loss: 0.0371\n",
      "Epoch 14/15\n",
      "\u001b[1m282/282\u001b[0m \u001b[32m━━━━━━━━━━━━━━━━━━━━\u001b[0m\u001b[37m\u001b[0m \u001b[1m47s\u001b[0m 168ms/step - accuracy: 0.9673 - loss: 0.0890 - val_accuracy: 0.9790 - val_loss: 0.0595\n",
      "Epoch 15/15\n",
      "\u001b[1m282/282\u001b[0m \u001b[32m━━━━━━━━━━━━━━━━━━━━\u001b[0m\u001b[37m\u001b[0m \u001b[1m35s\u001b[0m 123ms/step - accuracy: 0.9681 - loss: 0.0920 - val_accuracy: 0.9880 - val_loss: 0.0330\n"
     ]
    }
   ],
   "source": [
    "history = model.fit(\n",
    "    train_generator,\n",
    "    epochs=15,\n",
    "    validation_data=test_generator\n",
    ")"
   ]
  },
  {
   "cell_type": "markdown",
   "id": "36709e5d",
   "metadata": {},
   "source": [
    "### Visualize how the accuracy and loss of the model change over epochs for both the training and validation sets."
   ]
  },
  {
   "cell_type": "code",
   "execution_count": 21,
   "id": "619f9f22",
   "metadata": {},
   "outputs": [
    {
     "data": {
      "image/png": "[encoded data removed]",
      "text/plain": [
       "<Figure size 640x480 with 1 Axes>"
      ]
     },
     "metadata": {},
     "output_type": "display_data"
    },
    {
     "data": {
      "image/png": "[encoded data removed]",
      "text/plain": [
       "<Figure size 640x480 with 1 Axes>"
      ]
     },
     "metadata": {},
     "output_type": "display_data"
    }
   ],
   "source": [
    "plt.plot(history.history['accuracy'], label='Train Accuracy')\n",
    "plt.plot(history.history['val_accuracy'], label='Validation Accuracy')\n",
    "plt.title('Model Accuracy')\n",
    "plt.xlabel('Epoch')\n",
    "plt.ylabel('Accuracy')\n",
    "plt.legend()\n",
    "plt.grid(True)\n",
    "plt.show()\n",
    "\n",
    "plt.plot(history.history['loss'], label='Train Loss')\n",
    "plt.plot(history.history['val_loss'], label='Validation Loss')\n",
    "plt.title('Model Loss')\n",
    "plt.xlabel('Epoch')\n",
    "plt.ylabel('Loss')\n",
    "plt.legend()\n",
    "plt.grid(True)\n",
    "plt.show()"
   ]
  },
  {
   "cell_type": "markdown",
   "id": "7c46750a",
   "metadata": {},
   "source": [
    "### Saving model"
   ]
  },
  {
   "cell_type": "code",
   "execution_count": null,
   "id": "c9fb4d6c",
   "metadata": {},
   "outputs": [
    {
     "name": "stderr",
     "output_type": "stream",
     "text": [
      "WARNING:absl:You are saving your model as an HDF5 file via `model.save()` or `keras.saving.save_model(model)`. This file format is considered legacy. We recommend using instead the native Keras format, e.g. `model.save('my_model.keras')` or `keras.saving.save_model(model, 'my_model.keras')`. \n"
     ]
    }
   ],
   "source": [
    "model_save_path = \"../src/models/finger_count_model.h5\"\n",
    "model.save(model_save_path)"
   ]
  }
 ],
 "metadata": {
  "kernelspec": {
   "display_name": "Python 3",
   "language": "python",
   "name": "python3"
  },
  "language_info": {
   "codemirror_mode": {
    "name": "ipython",
    "version": 3
   },
   "file_extension": ".py",
   "mimetype": "text/x-python",
   "name": "python",
   "nbconvert_exporter": "python",
   "pygments_lexer": "ipython3",
   "version": "3.12.5"
  }
 },
 "nbformat": 4,
 "nbformat_minor": 5
}
